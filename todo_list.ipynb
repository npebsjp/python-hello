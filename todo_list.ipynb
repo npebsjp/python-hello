{
 "cells": [
  {
   "cell_type": "code",
   "execution_count": null,
   "metadata": {},
   "outputs": [
    {
     "ename": "IndentationError",
     "evalue": "expected an indented block after function definition on line 5 (3416858233.py, line 6)",
     "output_type": "error",
     "traceback": [
      "\u001b[0;36m  Cell \u001b[0;32mIn[2], line 6\u001b[0;36m\u001b[0m\n\u001b[0;31m    def delete_task(number_to_delete):\u001b[0m\n\u001b[0m    ^\u001b[0m\n\u001b[0;31mIndentationError\u001b[0m\u001b[0;31m:\u001b[0m expected an indented block after function definition on line 5\n"
     ]
    }
   ],
   "source": [
    "\n",
    "\n",
    "def print_list():\n",
    "def delete_task(number_to_delete):\n",
    "def save_todos(task):\n",
    "     tasks.append(task)\n",
    "    \n",
    "def load_todos():"
   ]
  },
  {
   "cell_type": "code",
   "execution_count": null,
   "metadata": {},
   "outputs": [],
   "source": [
    "choose one option:\n",
    "1. add one task \n",
    "2. delete a task \n",
    "3. print the current list of tasks\n",
    "4. save todos.csv\n",
    "5. load from todos.csv\n",
    "6. exit"
   ]
  },
  {
   "cell_type": "code",
   "execution_count": null,
   "metadata": {},
   "outputs": [],
   "source": [
    "option = input(str(\"Choose one option: \")) \n",
    "print(\n",
    "\"1. add one task\\n\" \n",
    "\"2. delete a task\\n\"\n",
    "\"3. print the current list of tasks\\n \"\n",
    "\"4. save todos.csv\\n\"\n",
    "\"5. load from todos.csv\\n\"\n",
    "\"6. exit\")\n",
    "\n",
    "tasks = []\n",
    "if option == 1:\n",
    "    add_one_task()"
   ]
  },
  {
   "cell_type": "code",
   "execution_count": null,
   "metadata": {},
   "outputs": [],
   "source": [
    "def add_one_task():\n",
    "    task = input(str(\"What is your task title? \"))\n",
    "    print(f\"Task '{task}' added\")"
   ]
  }
 ],
 "metadata": {
  "kernelspec": {
   "display_name": "Python 3",
   "language": "python",
   "name": "python3"
  },
  "language_info": {
   "codemirror_mode": {
    "name": "ipython",
    "version": 3
   },
   "file_extension": ".py",
   "mimetype": "text/x-python",
   "name": "python",
   "nbconvert_exporter": "python",
   "pygments_lexer": "ipython3",
   "version": "3.12.1"
  }
 },
 "nbformat": 4,
 "nbformat_minor": 2
}
